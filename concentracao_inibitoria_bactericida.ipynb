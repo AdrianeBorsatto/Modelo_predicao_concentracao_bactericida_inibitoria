{
  "nbformat": 4,
  "nbformat_minor": 0,
  "metadata": {
    "colab": {
      "name": "concentracao_inibitoria_bactericida.ipynb",
      "provenance": [],
      "collapsed_sections": [],
      "authorship_tag": "ABX9TyNbav2MuSt4rOxNA2c6NGUS",
      "include_colab_link": true
    },
    "kernelspec": {
      "name": "python3",
      "display_name": "Python 3"
    },
    "language_info": {
      "name": "python"
    }
  },
  "cells": [
    {
      "cell_type": "markdown",
      "metadata": {
        "id": "view-in-github",
        "colab_type": "text"
      },
      "source": [
        "<a href=\"https://colab.research.google.com/github/AdrianeBorsatto/Modelo_predicao_concentracao_bactericida_inibitoria/blob/main/concentracao_inibitoria_bactericida.ipynb\" target=\"_parent\"><img src=\"https://colab.research.google.com/assets/colab-badge.svg\" alt=\"Open In Colab\"/></a>"
      ]
    },
    {
      "cell_type": "markdown",
      "source": [
        "# Modelo de predição para as concentrações bactericidas e concentrações inibitórias mínimas, testadas com os produtos A e Py"
      ],
      "metadata": {
        "id": "iCaHxQDvrlm1"
      }
    },
    {
      "cell_type": "code",
      "execution_count": 436,
      "metadata": {
        "id": "gSjMlZ08zp6O"
      },
      "outputs": [],
      "source": [
        "import pandas as pd\n",
        "import numpy as np\n",
        "import seaborn as sns\n",
        "import matplotlib.pyplot as plt"
      ]
    },
    {
      "cell_type": "code",
      "source": [
        "concentracao= pd.read_excel('/content/CIMCBMbiofilme.xlsx')"
      ],
      "metadata": {
        "id": "ONkTJ7Cjz5MH"
      },
      "execution_count": 437,
      "outputs": []
    },
    {
      "cell_type": "code",
      "source": [
        "concentracao"
      ],
      "metadata": {
        "colab": {
          "base_uri": "https://localhost:8080/",
          "height": 708
        },
        "id": "Pul8XveN0MCG",
        "outputId": "ec354aa2-e1a9-4dae-e5f1-250e637025f3"
      },
      "execution_count": 438,
      "outputs": [
        {
          "output_type": "execute_result",
          "data": {
            "text/plain": [
              "     BAC  conc_inib_a  conc_bact_a  conc_inib_py  conc_bact_py  dens_otica\n",
              "0    SH1         2000         2000          62.5          1000    0.101208\n",
              "1    SH2         2000         4000         250.0          1000    0.052694\n",
              "2    SH3         2000         4000         250.0          1000    0.059556\n",
              "3    SH4         2000         4000         250.0          1000    0.104444\n",
              "4    SH5         2000         4000         250.0          1000    0.067889\n",
              "5    SH6         1000         2000         500.0          1000    0.055444\n",
              "6    SH7         2000         2000        1000.0          1000    0.102778\n",
              "7    SH8         1000         2000         500.0          1000    0.062444\n",
              "8    SH9         1000         2000         250.0          1000    0.101667\n",
              "9   SH10         2000         4000         125.0          1000    0.082556\n",
              "10   SM1         2000         4000         125.0          1000    0.108194\n",
              "11   SM2         2000         4000         250.0          1000    0.067597\n",
              "12   SM3         2000         4000         250.0          1000    0.055889\n",
              "13   SM4         2000         4000         250.0          1000    0.064000\n",
              "14   SM5         2000         4000         250.0          1000    0.053111\n",
              "15   SM6         2000         2000         500.0          1000    0.083111\n",
              "16   SM7         2000         2000         500.0          1000    0.060222\n",
              "17   SM8         1000         2000         250.0          1000    0.058778\n",
              "18   SM9         1000         2000         250.0          1000    0.053444\n",
              "19  SM10         2000         4000         125.0          1000    0.090556\n",
              "20    ST         2000         4000         250.0          1000    0.085833"
            ],
            "text/html": [
              "\n",
              "  <div id=\"df-b843cf07-2d1b-4c50-be58-149fcc74fef1\">\n",
              "    <div class=\"colab-df-container\">\n",
              "      <div>\n",
              "<style scoped>\n",
              "    .dataframe tbody tr th:only-of-type {\n",
              "        vertical-align: middle;\n",
              "    }\n",
              "\n",
              "    .dataframe tbody tr th {\n",
              "        vertical-align: top;\n",
              "    }\n",
              "\n",
              "    .dataframe thead th {\n",
              "        text-align: right;\n",
              "    }\n",
              "</style>\n",
              "<table border=\"1\" class=\"dataframe\">\n",
              "  <thead>\n",
              "    <tr style=\"text-align: right;\">\n",
              "      <th></th>\n",
              "      <th>BAC</th>\n",
              "      <th>conc_inib_a</th>\n",
              "      <th>conc_bact_a</th>\n",
              "      <th>conc_inib_py</th>\n",
              "      <th>conc_bact_py</th>\n",
              "      <th>dens_otica</th>\n",
              "    </tr>\n",
              "  </thead>\n",
              "  <tbody>\n",
              "    <tr>\n",
              "      <th>0</th>\n",
              "      <td>SH1</td>\n",
              "      <td>2000</td>\n",
              "      <td>2000</td>\n",
              "      <td>62.5</td>\n",
              "      <td>1000</td>\n",
              "      <td>0.101208</td>\n",
              "    </tr>\n",
              "    <tr>\n",
              "      <th>1</th>\n",
              "      <td>SH2</td>\n",
              "      <td>2000</td>\n",
              "      <td>4000</td>\n",
              "      <td>250.0</td>\n",
              "      <td>1000</td>\n",
              "      <td>0.052694</td>\n",
              "    </tr>\n",
              "    <tr>\n",
              "      <th>2</th>\n",
              "      <td>SH3</td>\n",
              "      <td>2000</td>\n",
              "      <td>4000</td>\n",
              "      <td>250.0</td>\n",
              "      <td>1000</td>\n",
              "      <td>0.059556</td>\n",
              "    </tr>\n",
              "    <tr>\n",
              "      <th>3</th>\n",
              "      <td>SH4</td>\n",
              "      <td>2000</td>\n",
              "      <td>4000</td>\n",
              "      <td>250.0</td>\n",
              "      <td>1000</td>\n",
              "      <td>0.104444</td>\n",
              "    </tr>\n",
              "    <tr>\n",
              "      <th>4</th>\n",
              "      <td>SH5</td>\n",
              "      <td>2000</td>\n",
              "      <td>4000</td>\n",
              "      <td>250.0</td>\n",
              "      <td>1000</td>\n",
              "      <td>0.067889</td>\n",
              "    </tr>\n",
              "    <tr>\n",
              "      <th>5</th>\n",
              "      <td>SH6</td>\n",
              "      <td>1000</td>\n",
              "      <td>2000</td>\n",
              "      <td>500.0</td>\n",
              "      <td>1000</td>\n",
              "      <td>0.055444</td>\n",
              "    </tr>\n",
              "    <tr>\n",
              "      <th>6</th>\n",
              "      <td>SH7</td>\n",
              "      <td>2000</td>\n",
              "      <td>2000</td>\n",
              "      <td>1000.0</td>\n",
              "      <td>1000</td>\n",
              "      <td>0.102778</td>\n",
              "    </tr>\n",
              "    <tr>\n",
              "      <th>7</th>\n",
              "      <td>SH8</td>\n",
              "      <td>1000</td>\n",
              "      <td>2000</td>\n",
              "      <td>500.0</td>\n",
              "      <td>1000</td>\n",
              "      <td>0.062444</td>\n",
              "    </tr>\n",
              "    <tr>\n",
              "      <th>8</th>\n",
              "      <td>SH9</td>\n",
              "      <td>1000</td>\n",
              "      <td>2000</td>\n",
              "      <td>250.0</td>\n",
              "      <td>1000</td>\n",
              "      <td>0.101667</td>\n",
              "    </tr>\n",
              "    <tr>\n",
              "      <th>9</th>\n",
              "      <td>SH10</td>\n",
              "      <td>2000</td>\n",
              "      <td>4000</td>\n",
              "      <td>125.0</td>\n",
              "      <td>1000</td>\n",
              "      <td>0.082556</td>\n",
              "    </tr>\n",
              "    <tr>\n",
              "      <th>10</th>\n",
              "      <td>SM1</td>\n",
              "      <td>2000</td>\n",
              "      <td>4000</td>\n",
              "      <td>125.0</td>\n",
              "      <td>1000</td>\n",
              "      <td>0.108194</td>\n",
              "    </tr>\n",
              "    <tr>\n",
              "      <th>11</th>\n",
              "      <td>SM2</td>\n",
              "      <td>2000</td>\n",
              "      <td>4000</td>\n",
              "      <td>250.0</td>\n",
              "      <td>1000</td>\n",
              "      <td>0.067597</td>\n",
              "    </tr>\n",
              "    <tr>\n",
              "      <th>12</th>\n",
              "      <td>SM3</td>\n",
              "      <td>2000</td>\n",
              "      <td>4000</td>\n",
              "      <td>250.0</td>\n",
              "      <td>1000</td>\n",
              "      <td>0.055889</td>\n",
              "    </tr>\n",
              "    <tr>\n",
              "      <th>13</th>\n",
              "      <td>SM4</td>\n",
              "      <td>2000</td>\n",
              "      <td>4000</td>\n",
              "      <td>250.0</td>\n",
              "      <td>1000</td>\n",
              "      <td>0.064000</td>\n",
              "    </tr>\n",
              "    <tr>\n",
              "      <th>14</th>\n",
              "      <td>SM5</td>\n",
              "      <td>2000</td>\n",
              "      <td>4000</td>\n",
              "      <td>250.0</td>\n",
              "      <td>1000</td>\n",
              "      <td>0.053111</td>\n",
              "    </tr>\n",
              "    <tr>\n",
              "      <th>15</th>\n",
              "      <td>SM6</td>\n",
              "      <td>2000</td>\n",
              "      <td>2000</td>\n",
              "      <td>500.0</td>\n",
              "      <td>1000</td>\n",
              "      <td>0.083111</td>\n",
              "    </tr>\n",
              "    <tr>\n",
              "      <th>16</th>\n",
              "      <td>SM7</td>\n",
              "      <td>2000</td>\n",
              "      <td>2000</td>\n",
              "      <td>500.0</td>\n",
              "      <td>1000</td>\n",
              "      <td>0.060222</td>\n",
              "    </tr>\n",
              "    <tr>\n",
              "      <th>17</th>\n",
              "      <td>SM8</td>\n",
              "      <td>1000</td>\n",
              "      <td>2000</td>\n",
              "      <td>250.0</td>\n",
              "      <td>1000</td>\n",
              "      <td>0.058778</td>\n",
              "    </tr>\n",
              "    <tr>\n",
              "      <th>18</th>\n",
              "      <td>SM9</td>\n",
              "      <td>1000</td>\n",
              "      <td>2000</td>\n",
              "      <td>250.0</td>\n",
              "      <td>1000</td>\n",
              "      <td>0.053444</td>\n",
              "    </tr>\n",
              "    <tr>\n",
              "      <th>19</th>\n",
              "      <td>SM10</td>\n",
              "      <td>2000</td>\n",
              "      <td>4000</td>\n",
              "      <td>125.0</td>\n",
              "      <td>1000</td>\n",
              "      <td>0.090556</td>\n",
              "    </tr>\n",
              "    <tr>\n",
              "      <th>20</th>\n",
              "      <td>ST</td>\n",
              "      <td>2000</td>\n",
              "      <td>4000</td>\n",
              "      <td>250.0</td>\n",
              "      <td>1000</td>\n",
              "      <td>0.085833</td>\n",
              "    </tr>\n",
              "  </tbody>\n",
              "</table>\n",
              "</div>\n",
              "      <button class=\"colab-df-convert\" onclick=\"convertToInteractive('df-b843cf07-2d1b-4c50-be58-149fcc74fef1')\"\n",
              "              title=\"Convert this dataframe to an interactive table.\"\n",
              "              style=\"display:none;\">\n",
              "        \n",
              "  <svg xmlns=\"http://www.w3.org/2000/svg\" height=\"24px\"viewBox=\"0 0 24 24\"\n",
              "       width=\"24px\">\n",
              "    <path d=\"M0 0h24v24H0V0z\" fill=\"none\"/>\n",
              "    <path d=\"M18.56 5.44l.94 2.06.94-2.06 2.06-.94-2.06-.94-.94-2.06-.94 2.06-2.06.94zm-11 1L8.5 8.5l.94-2.06 2.06-.94-2.06-.94L8.5 2.5l-.94 2.06-2.06.94zm10 10l.94 2.06.94-2.06 2.06-.94-2.06-.94-.94-2.06-.94 2.06-2.06.94z\"/><path d=\"M17.41 7.96l-1.37-1.37c-.4-.4-.92-.59-1.43-.59-.52 0-1.04.2-1.43.59L10.3 9.45l-7.72 7.72c-.78.78-.78 2.05 0 2.83L4 21.41c.39.39.9.59 1.41.59.51 0 1.02-.2 1.41-.59l7.78-7.78 2.81-2.81c.8-.78.8-2.07 0-2.86zM5.41 20L4 18.59l7.72-7.72 1.47 1.35L5.41 20z\"/>\n",
              "  </svg>\n",
              "      </button>\n",
              "      \n",
              "  <style>\n",
              "    .colab-df-container {\n",
              "      display:flex;\n",
              "      flex-wrap:wrap;\n",
              "      gap: 12px;\n",
              "    }\n",
              "\n",
              "    .colab-df-convert {\n",
              "      background-color: #E8F0FE;\n",
              "      border: none;\n",
              "      border-radius: 50%;\n",
              "      cursor: pointer;\n",
              "      display: none;\n",
              "      fill: #1967D2;\n",
              "      height: 32px;\n",
              "      padding: 0 0 0 0;\n",
              "      width: 32px;\n",
              "    }\n",
              "\n",
              "    .colab-df-convert:hover {\n",
              "      background-color: #E2EBFA;\n",
              "      box-shadow: 0px 1px 2px rgba(60, 64, 67, 0.3), 0px 1px 3px 1px rgba(60, 64, 67, 0.15);\n",
              "      fill: #174EA6;\n",
              "    }\n",
              "\n",
              "    [theme=dark] .colab-df-convert {\n",
              "      background-color: #3B4455;\n",
              "      fill: #D2E3FC;\n",
              "    }\n",
              "\n",
              "    [theme=dark] .colab-df-convert:hover {\n",
              "      background-color: #434B5C;\n",
              "      box-shadow: 0px 1px 3px 1px rgba(0, 0, 0, 0.15);\n",
              "      filter: drop-shadow(0px 1px 2px rgba(0, 0, 0, 0.3));\n",
              "      fill: #FFFFFF;\n",
              "    }\n",
              "  </style>\n",
              "\n",
              "      <script>\n",
              "        const buttonEl =\n",
              "          document.querySelector('#df-b843cf07-2d1b-4c50-be58-149fcc74fef1 button.colab-df-convert');\n",
              "        buttonEl.style.display =\n",
              "          google.colab.kernel.accessAllowed ? 'block' : 'none';\n",
              "\n",
              "        async function convertToInteractive(key) {\n",
              "          const element = document.querySelector('#df-b843cf07-2d1b-4c50-be58-149fcc74fef1');\n",
              "          const dataTable =\n",
              "            await google.colab.kernel.invokeFunction('convertToInteractive',\n",
              "                                                     [key], {});\n",
              "          if (!dataTable) return;\n",
              "\n",
              "          const docLinkHtml = 'Like what you see? Visit the ' +\n",
              "            '<a target=\"_blank\" href=https://colab.research.google.com/notebooks/data_table.ipynb>data table notebook</a>'\n",
              "            + ' to learn more about interactive tables.';\n",
              "          element.innerHTML = '';\n",
              "          dataTable['output_type'] = 'display_data';\n",
              "          await google.colab.output.renderOutput(dataTable, element);\n",
              "          const docLink = document.createElement('div');\n",
              "          docLink.innerHTML = docLinkHtml;\n",
              "          element.appendChild(docLink);\n",
              "        }\n",
              "      </script>\n",
              "    </div>\n",
              "  </div>\n",
              "  "
            ]
          },
          "metadata": {},
          "execution_count": 438
        }
      ]
    },
    {
      "cell_type": "markdown",
      "source": [
        "# As médias, desvio padrão e os mínimos, máximos, e as medianas apresentadas abaixo:"
      ],
      "metadata": {
        "id": "AlzlmRuas9mB"
      }
    },
    {
      "cell_type": "code",
      "source": [
        "concentracao.describe()"
      ],
      "metadata": {
        "colab": {
          "base_uri": "https://localhost:8080/",
          "height": 300
        },
        "id": "8LucttOX0NQ1",
        "outputId": "3b3f6a4e-3ef8-4bdb-ceb7-323f1ff1bb51"
      },
      "execution_count": 439,
      "outputs": [
        {
          "output_type": "execute_result",
          "data": {
            "text/plain": [
              "       conc_inib_a  conc_bact_a  conc_inib_py  conc_bact_py  dens_otica\n",
              "count    21.000000    21.000000     21.000000          21.0   21.000000\n",
              "mean   1761.904762  3142.857143    306.547619        1000.0    0.074829\n",
              "std     436.435780  1014.185106    203.393824           0.0    0.019891\n",
              "min    1000.000000  2000.000000     62.500000        1000.0    0.052694\n",
              "25%    2000.000000  2000.000000    250.000000        1000.0    0.058778\n",
              "50%    2000.000000  4000.000000    250.000000        1000.0    0.067597\n",
              "75%    2000.000000  4000.000000    250.000000        1000.0    0.090556\n",
              "max    2000.000000  4000.000000   1000.000000        1000.0    0.108194"
            ],
            "text/html": [
              "\n",
              "  <div id=\"df-e1d2ab36-578f-4fed-92ce-a77527c0914f\">\n",
              "    <div class=\"colab-df-container\">\n",
              "      <div>\n",
              "<style scoped>\n",
              "    .dataframe tbody tr th:only-of-type {\n",
              "        vertical-align: middle;\n",
              "    }\n",
              "\n",
              "    .dataframe tbody tr th {\n",
              "        vertical-align: top;\n",
              "    }\n",
              "\n",
              "    .dataframe thead th {\n",
              "        text-align: right;\n",
              "    }\n",
              "</style>\n",
              "<table border=\"1\" class=\"dataframe\">\n",
              "  <thead>\n",
              "    <tr style=\"text-align: right;\">\n",
              "      <th></th>\n",
              "      <th>conc_inib_a</th>\n",
              "      <th>conc_bact_a</th>\n",
              "      <th>conc_inib_py</th>\n",
              "      <th>conc_bact_py</th>\n",
              "      <th>dens_otica</th>\n",
              "    </tr>\n",
              "  </thead>\n",
              "  <tbody>\n",
              "    <tr>\n",
              "      <th>count</th>\n",
              "      <td>21.000000</td>\n",
              "      <td>21.000000</td>\n",
              "      <td>21.000000</td>\n",
              "      <td>21.0</td>\n",
              "      <td>21.000000</td>\n",
              "    </tr>\n",
              "    <tr>\n",
              "      <th>mean</th>\n",
              "      <td>1761.904762</td>\n",
              "      <td>3142.857143</td>\n",
              "      <td>306.547619</td>\n",
              "      <td>1000.0</td>\n",
              "      <td>0.074829</td>\n",
              "    </tr>\n",
              "    <tr>\n",
              "      <th>std</th>\n",
              "      <td>436.435780</td>\n",
              "      <td>1014.185106</td>\n",
              "      <td>203.393824</td>\n",
              "      <td>0.0</td>\n",
              "      <td>0.019891</td>\n",
              "    </tr>\n",
              "    <tr>\n",
              "      <th>min</th>\n",
              "      <td>1000.000000</td>\n",
              "      <td>2000.000000</td>\n",
              "      <td>62.500000</td>\n",
              "      <td>1000.0</td>\n",
              "      <td>0.052694</td>\n",
              "    </tr>\n",
              "    <tr>\n",
              "      <th>25%</th>\n",
              "      <td>2000.000000</td>\n",
              "      <td>2000.000000</td>\n",
              "      <td>250.000000</td>\n",
              "      <td>1000.0</td>\n",
              "      <td>0.058778</td>\n",
              "    </tr>\n",
              "    <tr>\n",
              "      <th>50%</th>\n",
              "      <td>2000.000000</td>\n",
              "      <td>4000.000000</td>\n",
              "      <td>250.000000</td>\n",
              "      <td>1000.0</td>\n",
              "      <td>0.067597</td>\n",
              "    </tr>\n",
              "    <tr>\n",
              "      <th>75%</th>\n",
              "      <td>2000.000000</td>\n",
              "      <td>4000.000000</td>\n",
              "      <td>250.000000</td>\n",
              "      <td>1000.0</td>\n",
              "      <td>0.090556</td>\n",
              "    </tr>\n",
              "    <tr>\n",
              "      <th>max</th>\n",
              "      <td>2000.000000</td>\n",
              "      <td>4000.000000</td>\n",
              "      <td>1000.000000</td>\n",
              "      <td>1000.0</td>\n",
              "      <td>0.108194</td>\n",
              "    </tr>\n",
              "  </tbody>\n",
              "</table>\n",
              "</div>\n",
              "      <button class=\"colab-df-convert\" onclick=\"convertToInteractive('df-e1d2ab36-578f-4fed-92ce-a77527c0914f')\"\n",
              "              title=\"Convert this dataframe to an interactive table.\"\n",
              "              style=\"display:none;\">\n",
              "        \n",
              "  <svg xmlns=\"http://www.w3.org/2000/svg\" height=\"24px\"viewBox=\"0 0 24 24\"\n",
              "       width=\"24px\">\n",
              "    <path d=\"M0 0h24v24H0V0z\" fill=\"none\"/>\n",
              "    <path d=\"M18.56 5.44l.94 2.06.94-2.06 2.06-.94-2.06-.94-.94-2.06-.94 2.06-2.06.94zm-11 1L8.5 8.5l.94-2.06 2.06-.94-2.06-.94L8.5 2.5l-.94 2.06-2.06.94zm10 10l.94 2.06.94-2.06 2.06-.94-2.06-.94-.94-2.06-.94 2.06-2.06.94z\"/><path d=\"M17.41 7.96l-1.37-1.37c-.4-.4-.92-.59-1.43-.59-.52 0-1.04.2-1.43.59L10.3 9.45l-7.72 7.72c-.78.78-.78 2.05 0 2.83L4 21.41c.39.39.9.59 1.41.59.51 0 1.02-.2 1.41-.59l7.78-7.78 2.81-2.81c.8-.78.8-2.07 0-2.86zM5.41 20L4 18.59l7.72-7.72 1.47 1.35L5.41 20z\"/>\n",
              "  </svg>\n",
              "      </button>\n",
              "      \n",
              "  <style>\n",
              "    .colab-df-container {\n",
              "      display:flex;\n",
              "      flex-wrap:wrap;\n",
              "      gap: 12px;\n",
              "    }\n",
              "\n",
              "    .colab-df-convert {\n",
              "      background-color: #E8F0FE;\n",
              "      border: none;\n",
              "      border-radius: 50%;\n",
              "      cursor: pointer;\n",
              "      display: none;\n",
              "      fill: #1967D2;\n",
              "      height: 32px;\n",
              "      padding: 0 0 0 0;\n",
              "      width: 32px;\n",
              "    }\n",
              "\n",
              "    .colab-df-convert:hover {\n",
              "      background-color: #E2EBFA;\n",
              "      box-shadow: 0px 1px 2px rgba(60, 64, 67, 0.3), 0px 1px 3px 1px rgba(60, 64, 67, 0.15);\n",
              "      fill: #174EA6;\n",
              "    }\n",
              "\n",
              "    [theme=dark] .colab-df-convert {\n",
              "      background-color: #3B4455;\n",
              "      fill: #D2E3FC;\n",
              "    }\n",
              "\n",
              "    [theme=dark] .colab-df-convert:hover {\n",
              "      background-color: #434B5C;\n",
              "      box-shadow: 0px 1px 3px 1px rgba(0, 0, 0, 0.15);\n",
              "      filter: drop-shadow(0px 1px 2px rgba(0, 0, 0, 0.3));\n",
              "      fill: #FFFFFF;\n",
              "    }\n",
              "  </style>\n",
              "\n",
              "      <script>\n",
              "        const buttonEl =\n",
              "          document.querySelector('#df-e1d2ab36-578f-4fed-92ce-a77527c0914f button.colab-df-convert');\n",
              "        buttonEl.style.display =\n",
              "          google.colab.kernel.accessAllowed ? 'block' : 'none';\n",
              "\n",
              "        async function convertToInteractive(key) {\n",
              "          const element = document.querySelector('#df-e1d2ab36-578f-4fed-92ce-a77527c0914f');\n",
              "          const dataTable =\n",
              "            await google.colab.kernel.invokeFunction('convertToInteractive',\n",
              "                                                     [key], {});\n",
              "          if (!dataTable) return;\n",
              "\n",
              "          const docLinkHtml = 'Like what you see? Visit the ' +\n",
              "            '<a target=\"_blank\" href=https://colab.research.google.com/notebooks/data_table.ipynb>data table notebook</a>'\n",
              "            + ' to learn more about interactive tables.';\n",
              "          element.innerHTML = '';\n",
              "          dataTable['output_type'] = 'display_data';\n",
              "          await google.colab.output.renderOutput(dataTable, element);\n",
              "          const docLink = document.createElement('div');\n",
              "          docLink.innerHTML = docLinkHtml;\n",
              "          element.appendChild(docLink);\n",
              "        }\n",
              "      </script>\n",
              "    </div>\n",
              "  </div>\n",
              "  "
            ]
          },
          "metadata": {},
          "execution_count": 439
        }
      ]
    },
    {
      "cell_type": "code",
      "source": [
        "plt.figure(figsize=(15,8))\n",
        "sns.boxplot(x='conc_bact_a', y='dens_otica', data=concentracao)\n",
        "plt.title('concentração bacterecida A x  densidade ótica', fontsize=20)\n",
        "plt.xlabel('Concentrações bactericidas do prduto A', fontsize=18)\n",
        "plt.ylabel('densidade ótica', fontsize=18)"
      ],
      "metadata": {
        "colab": {
          "base_uri": "https://localhost:8080/",
          "height": 544
        },
        "id": "ASP5myjL1Q9n",
        "outputId": "49d12b46-4407-4724-ef71-45819eb5e35f"
      },
      "execution_count": 530,
      "outputs": [
        {
          "output_type": "execute_result",
          "data": {
            "text/plain": [
              "Text(0, 0.5, 'densidade ótica')"
            ]
          },
          "metadata": {},
          "execution_count": 530
        },
        {
          "output_type": "display_data",
          "data": {
            "text/plain": [
              "<Figure size 1080x576 with 1 Axes>"
            ],
            "image/png": "[encoded data removed]"
          },
          "metadata": {
            "needs_background": "light"
          }
        }
      ]
    },
    {
      "cell_type": "markdown",
      "source": [
        "## Gráfico 1: Dois boxplot, representam duas concentrações testadas, com resultados de densidades óticas particulares para cada um, a mediana e o terceiro quantisl(75%) diferem um do outro, para o produto A."
      ],
      "metadata": {
        "id": "sxixv___uNoX"
      }
    },
    {
      "cell_type": "code",
      "source": [
        "plt.figure(figsize=(10,6))\n",
        "sns.boxplot(x='conc_bact_py', y='dens_otica', data=concentracao)\n",
        "plt.title('concentração bacterecida py x  densidade ótica', fontsize=20)\n",
        "\n",
        "plt.xlabel('Concentrações bactericidas do produto PY', fontsize=18)\n",
        "plt.ylabel('densidade ótica', fontsize=18)"
      ],
      "metadata": {
        "colab": {
          "base_uri": "https://localhost:8080/",
          "height": 435
        },
        "id": "S-v_qwCt1f-c",
        "outputId": "66d89411-3f3c-4c29-e179-486a8c900dad"
      },
      "execution_count": 532,
      "outputs": [
        {
          "output_type": "execute_result",
          "data": {
            "text/plain": [
              "Text(0, 0.5, 'densidade ótica')"
            ]
          },
          "metadata": {},
          "execution_count": 532
        },
        {
          "output_type": "display_data",
          "data": {
            "text/plain": [
              "<Figure size 720x432 with 1 Axes>"
            ],
            "image/png": "[encoded data removed]"
          },
          "metadata": {
            "needs_background": "light"
          }
        }
      ]
    },
    {
      "cell_type": "markdown",
      "source": [
        "## Gráfico 2: Uma concentração do produto testada 1000 para o produto Py;"
      ],
      "metadata": {
        "id": "TgtPXlcMuodM"
      }
    },
    {
      "cell_type": "code",
      "source": [
        "plt.figure(figsize=(20,12))\n",
        "concentracao[['conc_inib_a','conc_inib_py']].plot()\n",
        "plt.xlabel('número de análises', fontsize=18)\n",
        "plt.ylabel('Concentrações mínima inibitórias estudadas', fontsize=10)"
      ],
      "metadata": {
        "colab": {
          "base_uri": "https://localhost:8080/",
          "height": 325
        },
        "id": "DBRN4-VK2E-s",
        "outputId": "99356326-69f1-43de-b755-b8db5ef6911c"
      },
      "execution_count": 539,
      "outputs": [
        {
          "output_type": "execute_result",
          "data": {
            "text/plain": [
              "Text(0, 0.5, 'Concentrações mínima inibitórias estudadas')"
            ]
          },
          "metadata": {},
          "execution_count": 539
        },
        {
          "output_type": "display_data",
          "data": {
            "text/plain": [
              "<Figure size 1440x864 with 0 Axes>"
            ]
          },
          "metadata": {}
        },
        {
          "output_type": "display_data",
          "data": {
            "text/plain": [
              "<Figure size 432x288 with 1 Axes>"
            ],
            "image/png": "[encoded data removed]"
          },
          "metadata": {
            "needs_background": "light"
          }
        }
      ]
    },
    {
      "cell_type": "markdown",
      "source": [
        "## Gráfico 3: Concentração inibitória mínima para os dois compostos estudados"
      ],
      "metadata": {
        "id": "-8qmij4fu6ou"
      }
    },
    {
      "cell_type": "code",
      "source": [
        "plt.figure(figsize=(20,12))\n",
        "concentracao[['conc_bact_a','conc_bact_py']].plot()\n",
        "plt.xlabel('número de análises', fontsize=18)\n",
        "plt.ylabel('Concentrações bactericidas estudadas', fontsize=10)"
      ],
      "metadata": {
        "colab": {
          "base_uri": "https://localhost:8080/",
          "height": 322
        },
        "id": "aogPB3Lq2k2B",
        "outputId": "86815410-206e-4bed-fc06-6addf764516f"
      },
      "execution_count": 541,
      "outputs": [
        {
          "output_type": "execute_result",
          "data": {
            "text/plain": [
              "Text(0, 0.5, 'Concentrações bactericidas estudadas')"
            ]
          },
          "metadata": {},
          "execution_count": 541
        },
        {
          "output_type": "display_data",
          "data": {
            "text/plain": [
              "<Figure size 1440x864 with 0 Axes>"
            ]
          },
          "metadata": {}
        },
        {
          "output_type": "display_data",
          "data": {
            "text/plain": [
              "<Figure size 432x288 with 1 Axes>"
            ],
            "image/png": "[encoded data removed]"
          },
          "metadata": {
            "needs_background": "light"
          }
        }
      ]
    },
    {
      "cell_type": "markdown",
      "source": [
        "## Gráfico 4: As concentrações batericidas do produto A e 1 concentração para o produto py;"
      ],
      "metadata": {
        "id": "Tj_KhlAJvJ6O"
      }
    },
    {
      "cell_type": "code",
      "source": [
        "plt.figure(figsize=(20,12))\n",
        "concentracao.plot()\n",
        "plt.xlabel('número de análises', fontsize=18)\n",
        "plt.ylabel('Concentrações estudadas', fontsize=18)"
      ],
      "metadata": {
        "colab": {
          "base_uri": "https://localhost:8080/",
          "height": 330
        },
        "id": "Z_CSzyr03t1A",
        "outputId": "9d87af35-7548-4f3c-d055-12287275da23"
      },
      "execution_count": 543,
      "outputs": [
        {
          "output_type": "execute_result",
          "data": {
            "text/plain": [
              "Text(0, 0.5, 'Concentrações estudadas')"
            ]
          },
          "metadata": {},
          "execution_count": 543
        },
        {
          "output_type": "display_data",
          "data": {
            "text/plain": [
              "<Figure size 1440x864 with 0 Axes>"
            ]
          },
          "metadata": {}
        },
        {
          "output_type": "display_data",
          "data": {
            "text/plain": [
              "<Figure size 432x288 with 1 Axes>"
            ],
            "image/png": "[encoded data removed]"
          },
          "metadata": {
            "needs_background": "light"
          }
        }
      ]
    },
    {
      "cell_type": "code",
      "source": [
        "concentracao=concentracao[['conc_inib_a', 'conc_bact_a', 'conc_inib_py', 'conc_bact_py', 'dens_otica']]\n"
      ],
      "metadata": {
        "id": "_2F7Lf054zL0"
      },
      "execution_count": 544,
      "outputs": []
    },
    {
      "cell_type": "markdown",
      "source": [
        "## Foi avaliada as correlações entre as variáveis: houve uma correlação de 64.54% entre a concentração inib. do produto A  com a concentração bacterecida do produto A, e a concentração inib. do produto A de 24.40% com a densidade ótica. Já para o concentração inib. do produto py não foi calculado;\n"
      ],
      "metadata": {
        "id": "K9xIRXxowHAV"
      }
    },
    {
      "cell_type": "code",
      "source": [
        "concentracao.corr()"
      ],
      "metadata": {
        "colab": {
          "base_uri": "https://localhost:8080/",
          "height": 206
        },
        "id": "5uvMjEey5ZnX",
        "outputId": "88cc6756-2226-4291-a9a2-ed38a76f0f31"
      },
      "execution_count": 448,
      "outputs": [
        {
          "output_type": "execute_result",
          "data": {
            "text/plain": [
              "              conc_inib_a  conc_bact_a  conc_inib_py  conc_bact_py  dens_otica\n",
              "conc_inib_a      1.000000     0.645497     -0.122376           NaN    0.244028\n",
              "conc_bact_a      0.645497     1.000000     -0.510751           NaN   -0.027923\n",
              "conc_inib_py    -0.122376    -0.510751      1.000000           NaN   -0.007548\n",
              "conc_bact_py          NaN          NaN           NaN           NaN         NaN\n",
              "dens_otica       0.244028    -0.027923     -0.007548           NaN    1.000000"
            ],
            "text/html": [
              "\n",
              "  <div id=\"df-db329def-c7e1-461b-af1e-364c75736bda\">\n",
              "    <div class=\"colab-df-container\">\n",
              "      <div>\n",
              "<style scoped>\n",
              "    .dataframe tbody tr th:only-of-type {\n",
              "        vertical-align: middle;\n",
              "    }\n",
              "\n",
              "    .dataframe tbody tr th {\n",
              "        vertical-align: top;\n",
              "    }\n",
              "\n",
              "    .dataframe thead th {\n",
              "        text-align: right;\n",
              "    }\n",
              "</style>\n",
              "<table border=\"1\" class=\"dataframe\">\n",
              "  <thead>\n",
              "    <tr style=\"text-align: right;\">\n",
              "      <th></th>\n",
              "      <th>conc_inib_a</th>\n",
              "      <th>conc_bact_a</th>\n",
              "      <th>conc_inib_py</th>\n",
              "      <th>conc_bact_py</th>\n",
              "      <th>dens_otica</th>\n",
              "    </tr>\n",
              "  </thead>\n",
              "  <tbody>\n",
              "    <tr>\n",
              "      <th>conc_inib_a</th>\n",
              "      <td>1.000000</td>\n",
              "      <td>0.645497</td>\n",
              "      <td>-0.122376</td>\n",
              "      <td>NaN</td>\n",
              "      <td>0.244028</td>\n",
              "    </tr>\n",
              "    <tr>\n",
              "      <th>conc_bact_a</th>\n",
              "      <td>0.645497</td>\n",
              "      <td>1.000000</td>\n",
              "      <td>-0.510751</td>\n",
              "      <td>NaN</td>\n",
              "      <td>-0.027923</td>\n",
              "    </tr>\n",
              "    <tr>\n",
              "      <th>conc_inib_py</th>\n",
              "      <td>-0.122376</td>\n",
              "      <td>-0.510751</td>\n",
              "      <td>1.000000</td>\n",
              "      <td>NaN</td>\n",
              "      <td>-0.007548</td>\n",
              "    </tr>\n",
              "    <tr>\n",
              "      <th>conc_bact_py</th>\n",
              "      <td>NaN</td>\n",
              "      <td>NaN</td>\n",
              "      <td>NaN</td>\n",
              "      <td>NaN</td>\n",
              "      <td>NaN</td>\n",
              "    </tr>\n",
              "    <tr>\n",
              "      <th>dens_otica</th>\n",
              "      <td>0.244028</td>\n",
              "      <td>-0.027923</td>\n",
              "      <td>-0.007548</td>\n",
              "      <td>NaN</td>\n",
              "      <td>1.000000</td>\n",
              "    </tr>\n",
              "  </tbody>\n",
              "</table>\n",
              "</div>\n",
              "      <button class=\"colab-df-convert\" onclick=\"convertToInteractive('df-db329def-c7e1-461b-af1e-364c75736bda')\"\n",
              "              title=\"Convert this dataframe to an interactive table.\"\n",
              "              style=\"display:none;\">\n",
              "        \n",
              "  <svg xmlns=\"http://www.w3.org/2000/svg\" height=\"24px\"viewBox=\"0 0 24 24\"\n",
              "       width=\"24px\">\n",
              "    <path d=\"M0 0h24v24H0V0z\" fill=\"none\"/>\n",
              "    <path d=\"M18.56 5.44l.94 2.06.94-2.06 2.06-.94-2.06-.94-.94-2.06-.94 2.06-2.06.94zm-11 1L8.5 8.5l.94-2.06 2.06-.94-2.06-.94L8.5 2.5l-.94 2.06-2.06.94zm10 10l.94 2.06.94-2.06 2.06-.94-2.06-.94-.94-2.06-.94 2.06-2.06.94z\"/><path d=\"M17.41 7.96l-1.37-1.37c-.4-.4-.92-.59-1.43-.59-.52 0-1.04.2-1.43.59L10.3 9.45l-7.72 7.72c-.78.78-.78 2.05 0 2.83L4 21.41c.39.39.9.59 1.41.59.51 0 1.02-.2 1.41-.59l7.78-7.78 2.81-2.81c.8-.78.8-2.07 0-2.86zM5.41 20L4 18.59l7.72-7.72 1.47 1.35L5.41 20z\"/>\n",
              "  </svg>\n",
              "      </button>\n",
              "      \n",
              "  <style>\n",
              "    .colab-df-container {\n",
              "      display:flex;\n",
              "      flex-wrap:wrap;\n",
              "      gap: 12px;\n",
              "    }\n",
              "\n",
              "    .colab-df-convert {\n",
              "      background-color: #E8F0FE;\n",
              "      border: none;\n",
              "      border-radius: 50%;\n",
              "      cursor: pointer;\n",
              "      display: none;\n",
              "      fill: #1967D2;\n",
              "      height: 32px;\n",
              "      padding: 0 0 0 0;\n",
              "      width: 32px;\n",
              "    }\n",
              "\n",
              "    .colab-df-convert:hover {\n",
              "      background-color: #E2EBFA;\n",
              "      box-shadow: 0px 1px 2px rgba(60, 64, 67, 0.3), 0px 1px 3px 1px rgba(60, 64, 67, 0.15);\n",
              "      fill: #174EA6;\n",
              "    }\n",
              "\n",
              "    [theme=dark] .colab-df-convert {\n",
              "      background-color: #3B4455;\n",
              "      fill: #D2E3FC;\n",
              "    }\n",
              "\n",
              "    [theme=dark] .colab-df-convert:hover {\n",
              "      background-color: #434B5C;\n",
              "      box-shadow: 0px 1px 3px 1px rgba(0, 0, 0, 0.15);\n",
              "      filter: drop-shadow(0px 1px 2px rgba(0, 0, 0, 0.3));\n",
              "      fill: #FFFFFF;\n",
              "    }\n",
              "  </style>\n",
              "\n",
              "      <script>\n",
              "        const buttonEl =\n",
              "          document.querySelector('#df-db329def-c7e1-461b-af1e-364c75736bda button.colab-df-convert');\n",
              "        buttonEl.style.display =\n",
              "          google.colab.kernel.accessAllowed ? 'block' : 'none';\n",
              "\n",
              "        async function convertToInteractive(key) {\n",
              "          const element = document.querySelector('#df-db329def-c7e1-461b-af1e-364c75736bda');\n",
              "          const dataTable =\n",
              "            await google.colab.kernel.invokeFunction('convertToInteractive',\n",
              "                                                     [key], {});\n",
              "          if (!dataTable) return;\n",
              "\n",
              "          const docLinkHtml = 'Like what you see? Visit the ' +\n",
              "            '<a target=\"_blank\" href=https://colab.research.google.com/notebooks/data_table.ipynb>data table notebook</a>'\n",
              "            + ' to learn more about interactive tables.';\n",
              "          element.innerHTML = '';\n",
              "          dataTable['output_type'] = 'display_data';\n",
              "          await google.colab.output.renderOutput(dataTable, element);\n",
              "          const docLink = document.createElement('div');\n",
              "          docLink.innerHTML = docLinkHtml;\n",
              "          element.appendChild(docLink);\n",
              "        }\n",
              "      </script>\n",
              "    </div>\n",
              "  </div>\n",
              "  "
            ]
          },
          "metadata": {},
          "execution_count": 448
        }
      ]
    },
    {
      "cell_type": "markdown",
      "source": [
        "## Mapa de calor para a correlação"
      ],
      "metadata": {
        "id": "qA79lfuyxeC8"
      }
    },
    {
      "cell_type": "code",
      "source": [
        "plt.figure(figsize=(20,8))\n",
        "sns.heatmap(data=concentracao, linecolor='white', annot=True)"
      ],
      "metadata": {
        "colab": {
          "base_uri": "https://localhost:8080/",
          "height": 505
        },
        "id": "xuS_q1Cw4FCn",
        "outputId": "9e95bdf8-3ceb-4237-c4d8-91474c5f3d64"
      },
      "execution_count": 547,
      "outputs": [
        {
          "output_type": "execute_result",
          "data": {
            "text/plain": [
              "<matplotlib.axes._subplots.AxesSubplot at 0x7ff08ec09ed0>"
            ]
          },
          "metadata": {},
          "execution_count": 547
        },
        {
          "output_type": "display_data",
          "data": {
            "text/plain": [
              "<Figure size 1440x576 with 2 Axes>"
            ],
            "image/png": "[encoded data removed]"
          },
          "metadata": {
            "needs_background": "light"
          }
        }
      ]
    },
    {
      "cell_type": "markdown",
      "source": [
        "# Gráficos que mostram a regressão entre cada variável. Algumas positivas , outras negativas."
      ],
      "metadata": {
        "id": "CqE0FA4lx4dj"
      }
    },
    {
      "cell_type": "code",
      "source": [
        "sns.pairplot(concentracao, kind='reg')"
      ],
      "metadata": {
        "colab": {
          "base_uri": "https://localhost:8080/",
          "height": 920
        },
        "id": "lYwhholI4oRG",
        "outputId": "15a31689-bf10-49ff-95fb-429bb41e7f00"
      },
      "execution_count": 450,
      "outputs": [
        {
          "output_type": "execute_result",
          "data": {
            "text/plain": [
              "<seaborn.axisgrid.PairGrid at 0x7ff09024f610>"
            ]
          },
          "metadata": {},
          "execution_count": 450
        },
        {
          "output_type": "display_data",
          "data": {
            "text/plain": [
              "<Figure size 900x900 with 30 Axes>"
            ],
            "image/png": "[encoded data removed]"
          },
          "metadata": {
            "needs_background": "light"
          }
        }
      ]
    },
    {
      "cell_type": "markdown",
      "source": [
        "# Selecionei abaixo a concentração bact. A e seu comportamento em relação a densidade; Correlação levemnete negativa = -2.8%"
      ],
      "metadata": {
        "id": "ZhG8VJMayhdp"
      }
    },
    {
      "cell_type": "code",
      "source": [
        "sns.jointplot(x='conc_bact_a', y='dens_otica', data=concentracao, kind='reg')"
      ],
      "metadata": {
        "colab": {
          "base_uri": "https://localhost:8080/",
          "height": 458
        },
        "id": "WYFItlR35sQs",
        "outputId": "ceeb1d5a-d676-4035-b5de-21d6bf83ab9a"
      },
      "execution_count": 451,
      "outputs": [
        {
          "output_type": "execute_result",
          "data": {
            "text/plain": [
              "<seaborn.axisgrid.JointGrid at 0x7ff08f780950>"
            ]
          },
          "metadata": {},
          "execution_count": 451
        },
        {
          "output_type": "display_data",
          "data": {
            "text/plain": [
              "<Figure size 432x432 with 3 Axes>"
            ],
            "image/png": "[encoded data removed]"
          },
          "metadata": {
            "needs_background": "light"
          }
        }
      ]
    },
    {
      "cell_type": "markdown",
      "source": [
        "# # Selecionei abaixo a concentração inibitória A e seu comportamento em relação a densidade; Correlação = 24.40%"
      ],
      "metadata": {
        "id": "CV2If2nIy_xl"
      }
    },
    {
      "cell_type": "code",
      "source": [
        "sns.jointplot(x='conc_inib_a', y='dens_otica', data=concentracao, kind='reg')"
      ],
      "metadata": {
        "colab": {
          "base_uri": "https://localhost:8080/",
          "height": 458
        },
        "id": "hAcUGoPUy6vj",
        "outputId": "08b2fd26-71fe-4578-dbb9-f8df166e1892"
      },
      "execution_count": 548,
      "outputs": [
        {
          "output_type": "execute_result",
          "data": {
            "text/plain": [
              "<seaborn.axisgrid.JointGrid at 0x7ff08eb4da90>"
            ]
          },
          "metadata": {},
          "execution_count": 548
        },
        {
          "output_type": "display_data",
          "data": {
            "text/plain": [
              "<Figure size 432x432 with 3 Axes>"
            ],
            "image/png": "[encoded data removed]"
          },
          "metadata": {
            "needs_background": "light"
          }
        }
      ]
    },
    {
      "cell_type": "markdown",
      "source": [
        "# Abaixo foram separados 30 % das amostras para teste, e 70 % para treino, usando a aleatoriedade do random_state. y= densidade ótica e as features (x) = foram usados os demais dados."
      ],
      "metadata": {
        "id": "mHkzPPZxzPu4"
      }
    },
    {
      "cell_type": "code",
      "source": [
        "from sklearn.model_selection import train_test_split"
      ],
      "metadata": {
        "id": "tX5u6AaI7QdY"
      },
      "execution_count": 452,
      "outputs": []
    },
    {
      "cell_type": "markdown",
      "source": [
        "# Usando o StatsModel para a separação dos dados;"
      ],
      "metadata": {
        "id": "COEMiGMXz1bV"
      }
    },
    {
      "cell_type": "code",
      "source": [
        "y= concentracao['dens_otica']\n",
        "x=concentracao[['conc_inib_a',\t'conc_bact_a', 'conc_inib_py', 'conc_bact_py']]"
      ],
      "metadata": {
        "id": "loIXb4LX7hCn"
      },
      "execution_count": 453,
      "outputs": []
    },
    {
      "cell_type": "code",
      "source": [
        "x_treino, x_teste, y_treino, y_teste=train_test_split(x, y, test_size=0.3, random_state=123)"
      ],
      "metadata": {
        "id": "xHbf3xRC7nde"
      },
      "execution_count": 454,
      "outputs": []
    },
    {
      "cell_type": "code",
      "source": [
        "x_treino.shape"
      ],
      "metadata": {
        "colab": {
          "base_uri": "https://localhost:8080/",
          "height": 0
        },
        "id": "Is6y5Crl8LIs",
        "outputId": "278b15f2-392b-4593-d0c5-a35f7045622e"
      },
      "execution_count": 455,
      "outputs": [
        {
          "output_type": "execute_result",
          "data": {
            "text/plain": [
              "(14, 4)"
            ]
          },
          "metadata": {},
          "execution_count": 455
        }
      ]
    },
    {
      "cell_type": "code",
      "source": [
        "x_teste.shape"
      ],
      "metadata": {
        "colab": {
          "base_uri": "https://localhost:8080/",
          "height": 0
        },
        "id": "ulhZo11n8Ooc",
        "outputId": "db4af309-0dd3-4abf-bb2a-18badd79871b"
      },
      "execution_count": 456,
      "outputs": [
        {
          "output_type": "execute_result",
          "data": {
            "text/plain": [
              "(7, 4)"
            ]
          },
          "metadata": {},
          "execution_count": 456
        }
      ]
    },
    {
      "cell_type": "code",
      "source": [
        "y_treino.shape"
      ],
      "metadata": {
        "colab": {
          "base_uri": "https://localhost:8080/",
          "height": 0
        },
        "id": "jT4XT9mj8Qes",
        "outputId": "10f1d168-c390-44ce-b5ac-6469b6c71198"
      },
      "execution_count": 457,
      "outputs": [
        {
          "output_type": "execute_result",
          "data": {
            "text/plain": [
              "(14,)"
            ]
          },
          "metadata": {},
          "execution_count": 457
        }
      ]
    },
    {
      "cell_type": "code",
      "source": [
        "y_teste.shape"
      ],
      "metadata": {
        "colab": {
          "base_uri": "https://localhost:8080/",
          "height": 0
        },
        "id": "VkJ3e1ct8Wws",
        "outputId": "91bcfe54-4fe2-4bd0-9c95-16454e385f92"
      },
      "execution_count": 458,
      "outputs": [
        {
          "output_type": "execute_result",
          "data": {
            "text/plain": [
              "(7,)"
            ]
          },
          "metadata": {},
          "execution_count": 458
        }
      ]
    },
    {
      "cell_type": "markdown",
      "source": [
        "# Foi Usado nesse modelo a Regressão Linear "
      ],
      "metadata": {
        "id": "lEup6fwy0ArB"
      }
    },
    {
      "cell_type": "code",
      "source": [
        "from sklearn.linear_model import LinearRegression\n",
        "from sklearn import metrics"
      ],
      "metadata": {
        "id": "pkg0TBHj8cKs"
      },
      "execution_count": 459,
      "outputs": []
    },
    {
      "cell_type": "code",
      "source": [
        "modelo=LinearRegression()"
      ],
      "metadata": {
        "id": "FebbvA_88k48"
      },
      "execution_count": 460,
      "outputs": []
    },
    {
      "cell_type": "code",
      "source": [
        "modelo.fit(x_treino, y_treino)"
      ],
      "metadata": {
        "colab": {
          "base_uri": "https://localhost:8080/",
          "height": 0
        },
        "id": "FZiKGM4t8oo0",
        "outputId": "3cefff95-22e5-4f5f-a2c4-000f3b86de6e"
      },
      "execution_count": 461,
      "outputs": [
        {
          "output_type": "execute_result",
          "data": {
            "text/plain": [
              "LinearRegression()"
            ]
          },
          "metadata": {},
          "execution_count": 461
        }
      ]
    },
    {
      "cell_type": "markdown",
      "source": [
        "# R2 é o coeficiente de determinação"
      ],
      "metadata": {
        "id": "Be0k06SX9Bbx"
      }
    },
    {
      "cell_type": "code",
      "source": [
        "modelo.score(x_treino, y_treino).round(2)*100"
      ],
      "metadata": {
        "colab": {
          "base_uri": "https://localhost:8080/",
          "height": 0
        },
        "id": "POynkND28ysc",
        "outputId": "be62d5e9-a621-43d3-ffbb-56b3ef2b0fdc"
      },
      "execution_count": 549,
      "outputs": [
        {
          "output_type": "execute_result",
          "data": {
            "text/plain": [
              "34.0"
            ]
          },
          "metadata": {},
          "execution_count": 549
        }
      ]
    },
    {
      "cell_type": "code",
      "source": [
        "y_previsto= modelo.predict(x_teste)\n",
        "y_previsto"
      ],
      "metadata": {
        "colab": {
          "base_uri": "https://localhost:8080/",
          "height": 0
        },
        "id": "QIQVEZ9D84H8",
        "outputId": "392a085f-ec3b-4873-a5e4-19453f129587"
      },
      "execution_count": 463,
      "outputs": [
        {
          "output_type": "execute_result",
          "data": {
            "text/plain": [
              "array([0.0714408 , 0.05505901, 0.05505901, 0.05877778, 0.0714408 ,\n",
              "       0.09600897, 0.05877778])"
            ]
          },
          "metadata": {},
          "execution_count": 463
        }
      ]
    },
    {
      "cell_type": "code",
      "source": [
        "y_previsto_treino=modelo.predict(x_treino)\n",
        "y_previsto_treino\n"
      ],
      "metadata": {
        "colab": {
          "base_uri": "https://localhost:8080/",
          "height": 0
        },
        "id": "D-EbVcQvAQ9Q",
        "outputId": "fd3bb51a-0d23-43e3-bec7-40b4c56ea4ca"
      },
      "execution_count": 464,
      "outputs": [
        {
          "output_type": "execute_result",
          "data": {
            "text/plain": [
              "array([0.0714408 , 0.09600897, 0.0714408 , 0.0714408 , 0.10251681,\n",
              "       0.0714408 , 0.05877778, 0.07330018, 0.0714408 , 0.07330018,\n",
              "       0.08857144, 0.07330018, 0.0714408 , 0.0714408 ])"
            ]
          },
          "metadata": {},
          "execution_count": 464
        }
      ]
    },
    {
      "cell_type": "markdown",
      "source": [
        "# Gráfico5: a densidade comparando a predição x real para os dados de treino;"
      ],
      "metadata": {
        "id": "vmRIcUd00NCh"
      }
    },
    {
      "cell_type": "code",
      "source": [
        "sns.scatterplot(x=y_previsto_treino, y=y_treino)"
      ],
      "metadata": {
        "colab": {
          "base_uri": "https://localhost:8080/",
          "height": 283
        },
        "id": "Q8Y0Xy6iAXAr",
        "outputId": "c21797ca-2985-424e-b43a-0392462c14cf"
      },
      "execution_count": 465,
      "outputs": [
        {
          "output_type": "execute_result",
          "data": {
            "text/plain": [
              "<matplotlib.axes._subplots.AxesSubplot at 0x7ff08f62e910>"
            ]
          },
          "metadata": {},
          "execution_count": 465
        },
        {
          "output_type": "display_data",
          "data": {
            "text/plain": [
              "<Figure size 432x288 with 1 Axes>"
            ],
            "image/png": "[encoded data removed]"
          },
          "metadata": {
            "needs_background": "light"
          }
        }
      ]
    },
    {
      "cell_type": "markdown",
      "source": [
        "# Calculando os resíduos (erro)"
      ],
      "metadata": {
        "id": "J9ImFhE10k-r"
      }
    },
    {
      "cell_type": "code",
      "source": [
        "residuo = y_treino - y_previsto_treino\n",
        "residuo"
      ],
      "metadata": {
        "colab": {
          "base_uri": "https://localhost:8080/",
          "height": 0
        },
        "id": "FSvPrc7JAmUq",
        "outputId": "6e49404b-5e78-42c0-c2ca-be11a75b25ca"
      },
      "execution_count": 466,
      "outputs": [
        {
          "output_type": "execute_result",
          "data": {
            "text/plain": [
              "20    1.439254e-02\n",
              "15   -1.289786e-02\n",
              "14   -1.832969e-02\n",
              "12   -1.555191e-02\n",
              "0    -1.308477e-03\n",
              "1    -1.874635e-02\n",
              "17    2.081668e-17\n",
              "9     9.255377e-03\n",
              "11   -3.843574e-03\n",
              "10    3.489427e-02\n",
              "6     1.420634e-02\n",
              "19    1.725538e-02\n",
              "2    -1.188524e-02\n",
              "13   -7.440796e-03\n",
              "Name: dens_otica, dtype: float64"
            ]
          },
          "metadata": {},
          "execution_count": 466
        }
      ]
    },
    {
      "cell_type": "markdown",
      "source": [
        "# Gráfico 6: previsto x o residuo"
      ],
      "metadata": {
        "id": "6_mVd9uR0qy5"
      }
    },
    {
      "cell_type": "code",
      "source": [
        "plt.title(\"Valor estimado de densidade ótica x resíduo\")\n",
        "sns.scatterplot(x=y_previsto_treino, y=residuo)"
      ],
      "metadata": {
        "colab": {
          "base_uri": "https://localhost:8080/",
          "height": 298
        },
        "id": "ZUW176fGAu6J",
        "outputId": "d8934c9f-9a70-4266-9c95-9a266a08258d"
      },
      "execution_count": 467,
      "outputs": [
        {
          "output_type": "execute_result",
          "data": {
            "text/plain": [
              "<matplotlib.axes._subplots.AxesSubplot at 0x7ff08f64e5d0>"
            ]
          },
          "metadata": {},
          "execution_count": 467
        },
        {
          "output_type": "display_data",
          "data": {
            "text/plain": [
              "<Figure size 432x288 with 1 Axes>"
            ],
            "image/png": "[encoded data removed]"
          },
          "metadata": {
            "needs_background": "light"
          }
        }
      ]
    },
    {
      "cell_type": "markdown",
      "source": [
        "# Aplicando os dados Estatísticos:"
      ],
      "metadata": {
        "id": "-4m4KMgP094U"
      }
    },
    {
      "cell_type": "code",
      "source": [
        "\n",
        "import statsmodels.api as sm"
      ],
      "metadata": {
        "id": "gWyHIipxBaTg"
      },
      "execution_count": 469,
      "outputs": []
    },
    {
      "cell_type": "code",
      "source": [
        "modelo_statsmodel=sm.OLS(y_treino, x_treino).fit()"
      ],
      "metadata": {
        "id": "VSeWKVYxBpjz"
      },
      "execution_count": 470,
      "outputs": []
    },
    {
      "cell_type": "code",
      "source": [
        "estatistica = modelo_statsmodel.summary()\n",
        "estatistica"
      ],
      "metadata": {
        "colab": {
          "base_uri": "https://localhost:8080/",
          "height": 520
        },
        "id": "A-eSjb67CHmv",
        "outputId": "a09648c6-d9db-4847-d723-ca39e84247fd"
      },
      "execution_count": 471,
      "outputs": [
        {
          "output_type": "stream",
          "name": "stderr",
          "text": [
            "/usr/local/lib/python3.7/dist-packages/scipy/stats/stats.py:1542: UserWarning: kurtosistest only valid for n>=20 ... continuing anyway, n=14\n",
            "  \"anyway, n=%i\" % int(n))\n"
          ]
        },
        {
          "output_type": "execute_result",
          "data": {
            "text/plain": [
              "<class 'statsmodels.iolib.summary.Summary'>\n",
              "\"\"\"\n",
              "                            OLS Regression Results                            \n",
              "==============================================================================\n",
              "Dep. Variable:             dens_otica   R-squared:                       0.342\n",
              "Model:                            OLS   Adj. R-squared:                  0.145\n",
              "Method:                 Least Squares   F-statistic:                     1.733\n",
              "Date:                Wed, 10 Aug 2022   Prob (F-statistic):              0.223\n",
              "Time:                        16:36:11   Log-Likelihood:                 38.566\n",
              "No. Observations:                  14   AIC:                            -69.13\n",
              "Df Residuals:                      10   BIC:                            -66.57\n",
              "Df Model:                           3                                         \n",
              "Covariance Type:            nonrobust                                         \n",
              "================================================================================\n",
              "                   coef    std err          t      P>|t|      [0.025      0.975]\n",
              "--------------------------------------------------------------------------------\n",
              "conc_inib_a   4.095e-05   2.22e-05      1.842      0.095   -8.57e-06    9.05e-05\n",
              "conc_bact_a  -1.414e-05   7.25e-06     -1.950      0.080   -3.03e-05    2.02e-06\n",
              "conc_inib_py -1.488e-05   2.65e-05     -0.562      0.587   -7.39e-05    4.41e-05\n",
              "conc_bact_py  4.983e-05   3.77e-05      1.323      0.215   -3.41e-05       0.000\n",
              "==============================================================================\n",
              "Omnibus:                        1.624   Durbin-Watson:                   1.418\n",
              "Prob(Omnibus):                  0.444   Jarque-Bera (JB):                1.118\n",
              "Skew:                           0.655   Prob(JB):                        0.572\n",
              "Kurtosis:                       2.552   Cond. No.                         35.5\n",
              "==============================================================================\n",
              "\n",
              "Warnings:\n",
              "[1] Standard Errors assume that the covariance matrix of the errors is correctly specified.\n",
              "\"\"\""
            ],
            "text/html": [
              "<table class=\"simpletable\">\n",
              "<caption>OLS Regression Results</caption>\n",
              "<tr>\n",
              "  <th>Dep. Variable:</th>       <td>dens_otica</td>    <th>  R-squared:         </th> <td>   0.342</td>\n",
              "</tr>\n",
              "<tr>\n",
              "  <th>Model:</th>                   <td>OLS</td>       <th>  Adj. R-squared:    </th> <td>   0.145</td>\n",
              "</tr>\n",
              "<tr>\n",
              "  <th>Method:</th>             <td>Least Squares</td>  <th>  F-statistic:       </th> <td>   1.733</td>\n",
              "</tr>\n",
              "<tr>\n",
              "  <th>Date:</th>             <td>Wed, 10 Aug 2022</td> <th>  Prob (F-statistic):</th>  <td> 0.223</td> \n",
              "</tr>\n",
              "<tr>\n",
              "  <th>Time:</th>                 <td>16:36:11</td>     <th>  Log-Likelihood:    </th> <td>  38.566</td>\n",
              "</tr>\n",
              "<tr>\n",
              "  <th>No. Observations:</th>      <td>    14</td>      <th>  AIC:               </th> <td>  -69.13</td>\n",
              "</tr>\n",
              "<tr>\n",
              "  <th>Df Residuals:</th>          <td>    10</td>      <th>  BIC:               </th> <td>  -66.57</td>\n",
              "</tr>\n",
              "<tr>\n",
              "  <th>Df Model:</th>              <td>     3</td>      <th>                     </th>     <td> </td>   \n",
              "</tr>\n",
              "<tr>\n",
              "  <th>Covariance Type:</th>      <td>nonrobust</td>    <th>                     </th>     <td> </td>   \n",
              "</tr>\n",
              "</table>\n",
              "<table class=\"simpletable\">\n",
              "<tr>\n",
              "        <td></td>          <th>coef</th>     <th>std err</th>      <th>t</th>      <th>P>|t|</th>  <th>[0.025</th>    <th>0.975]</th>  \n",
              "</tr>\n",
              "<tr>\n",
              "  <th>conc_inib_a</th>  <td> 4.095e-05</td> <td> 2.22e-05</td> <td>    1.842</td> <td> 0.095</td> <td>-8.57e-06</td> <td> 9.05e-05</td>\n",
              "</tr>\n",
              "<tr>\n",
              "  <th>conc_bact_a</th>  <td>-1.414e-05</td> <td> 7.25e-06</td> <td>   -1.950</td> <td> 0.080</td> <td>-3.03e-05</td> <td> 2.02e-06</td>\n",
              "</tr>\n",
              "<tr>\n",
              "  <th>conc_inib_py</th> <td>-1.488e-05</td> <td> 2.65e-05</td> <td>   -0.562</td> <td> 0.587</td> <td>-7.39e-05</td> <td> 4.41e-05</td>\n",
              "</tr>\n",
              "<tr>\n",
              "  <th>conc_bact_py</th> <td> 4.983e-05</td> <td> 3.77e-05</td> <td>    1.323</td> <td> 0.215</td> <td>-3.41e-05</td> <td>    0.000</td>\n",
              "</tr>\n",
              "</table>\n",
              "<table class=\"simpletable\">\n",
              "<tr>\n",
              "  <th>Omnibus:</th>       <td> 1.624</td> <th>  Durbin-Watson:     </th> <td>   1.418</td>\n",
              "</tr>\n",
              "<tr>\n",
              "  <th>Prob(Omnibus):</th> <td> 0.444</td> <th>  Jarque-Bera (JB):  </th> <td>   1.118</td>\n",
              "</tr>\n",
              "<tr>\n",
              "  <th>Skew:</th>          <td> 0.655</td> <th>  Prob(JB):          </th> <td>   0.572</td>\n",
              "</tr>\n",
              "<tr>\n",
              "  <th>Kurtosis:</th>      <td> 2.552</td> <th>  Cond. No.          </th> <td>    35.5</td>\n",
              "</tr>\n",
              "</table><br/><br/>Warnings:<br/>[1] Standard Errors assume that the covariance matrix of the errors is correctly specified."
            ]
          },
          "metadata": {},
          "execution_count": 471
        }
      ]
    },
    {
      "cell_type": "markdown",
      "source": [
        "## Através desse resultado estatístico não apresentamos uma confiança de 95% dos resultados, com p>0.05, com significância maior que 5%, logo faremos um novo modelo, separando os melhores resultados p; "
      ],
      "metadata": {
        "id": "M_MUo44P1EfZ"
      }
    },
    {
      "cell_type": "markdown",
      "source": [
        "## Aplicando o método com o uso de uma constante"
      ],
      "metadata": {
        "id": "sLQQtNZmD_iu"
      }
    },
    {
      "cell_type": "code",
      "source": [
        "constatante=sm.add_constant(x_treino)"
      ],
      "metadata": {
        "colab": {
          "base_uri": "https://localhost:8080/",
          "height": 0
        },
        "id": "yDZa9-VhD-OR",
        "outputId": "6dbe7ffd-94f7-4d80-c35f-f6ac0380578e"
      },
      "execution_count": 472,
      "outputs": [
        {
          "output_type": "stream",
          "name": "stderr",
          "text": [
            "/usr/local/lib/python3.7/dist-packages/statsmodels/tsa/tsatools.py:117: FutureWarning: In a future version of pandas all arguments of concat except for the argument 'objs' will be keyword-only\n",
            "  x = pd.concat(x[::order], 1)\n"
          ]
        }
      ]
    },
    {
      "cell_type": "code",
      "source": [
        "modelo2=sm.OLS(y_treino, constatante, hasconst=True).fit()\n"
      ],
      "metadata": {
        "id": "PKkUvuwGEOAn"
      },
      "execution_count": 473,
      "outputs": []
    },
    {
      "cell_type": "code",
      "source": [
        "estatistica2 = modelo2.summary()\n",
        "estatistica2"
      ],
      "metadata": {
        "colab": {
          "base_uri": "https://localhost:8080/",
          "height": 520
        },
        "id": "tnWxJO-2EwM8",
        "outputId": "6a90b956-f9de-4320-fd09-3cd8f137a955"
      },
      "execution_count": 474,
      "outputs": [
        {
          "output_type": "stream",
          "name": "stderr",
          "text": [
            "/usr/local/lib/python3.7/dist-packages/scipy/stats/stats.py:1542: UserWarning: kurtosistest only valid for n>=20 ... continuing anyway, n=14\n",
            "  \"anyway, n=%i\" % int(n))\n"
          ]
        },
        {
          "output_type": "execute_result",
          "data": {
            "text/plain": [
              "<class 'statsmodels.iolib.summary.Summary'>\n",
              "\"\"\"\n",
              "                            OLS Regression Results                            \n",
              "==============================================================================\n",
              "Dep. Variable:             dens_otica   R-squared:                       0.342\n",
              "Model:                            OLS   Adj. R-squared:                  0.145\n",
              "Method:                 Least Squares   F-statistic:                     1.733\n",
              "Date:                Wed, 10 Aug 2022   Prob (F-statistic):              0.223\n",
              "Time:                        16:36:11   Log-Likelihood:                 38.566\n",
              "No. Observations:                  14   AIC:                            -69.13\n",
              "Df Residuals:                      10   BIC:                            -66.57\n",
              "Df Model:                           3                                         \n",
              "Covariance Type:            nonrobust                                         \n",
              "================================================================================\n",
              "                   coef    std err          t      P>|t|      [0.025      0.975]\n",
              "--------------------------------------------------------------------------------\n",
              "conc_inib_a   4.095e-05   2.22e-05      1.842      0.095   -8.57e-06    9.05e-05\n",
              "conc_bact_a  -1.414e-05   7.25e-06     -1.950      0.080   -3.03e-05    2.02e-06\n",
              "conc_inib_py -1.488e-05   2.65e-05     -0.562      0.587   -7.39e-05    4.41e-05\n",
              "conc_bact_py  4.983e-05   3.77e-05      1.323      0.215   -3.41e-05       0.000\n",
              "==============================================================================\n",
              "Omnibus:                        1.624   Durbin-Watson:                   1.418\n",
              "Prob(Omnibus):                  0.444   Jarque-Bera (JB):                1.118\n",
              "Skew:                           0.655   Prob(JB):                        0.572\n",
              "Kurtosis:                       2.552   Cond. No.                         35.5\n",
              "==============================================================================\n",
              "\n",
              "Warnings:\n",
              "[1] Standard Errors assume that the covariance matrix of the errors is correctly specified.\n",
              "\"\"\""
            ],
            "text/html": [
              "<table class=\"simpletable\">\n",
              "<caption>OLS Regression Results</caption>\n",
              "<tr>\n",
              "  <th>Dep. Variable:</th>       <td>dens_otica</td>    <th>  R-squared:         </th> <td>   0.342</td>\n",
              "</tr>\n",
              "<tr>\n",
              "  <th>Model:</th>                   <td>OLS</td>       <th>  Adj. R-squared:    </th> <td>   0.145</td>\n",
              "</tr>\n",
              "<tr>\n",
              "  <th>Method:</th>             <td>Least Squares</td>  <th>  F-statistic:       </th> <td>   1.733</td>\n",
              "</tr>\n",
              "<tr>\n",
              "  <th>Date:</th>             <td>Wed, 10 Aug 2022</td> <th>  Prob (F-statistic):</th>  <td> 0.223</td> \n",
              "</tr>\n",
              "<tr>\n",
              "  <th>Time:</th>                 <td>16:36:11</td>     <th>  Log-Likelihood:    </th> <td>  38.566</td>\n",
              "</tr>\n",
              "<tr>\n",
              "  <th>No. Observations:</th>      <td>    14</td>      <th>  AIC:               </th> <td>  -69.13</td>\n",
              "</tr>\n",
              "<tr>\n",
              "  <th>Df Residuals:</th>          <td>    10</td>      <th>  BIC:               </th> <td>  -66.57</td>\n",
              "</tr>\n",
              "<tr>\n",
              "  <th>Df Model:</th>              <td>     3</td>      <th>                     </th>     <td> </td>   \n",
              "</tr>\n",
              "<tr>\n",
              "  <th>Covariance Type:</th>      <td>nonrobust</td>    <th>                     </th>     <td> </td>   \n",
              "</tr>\n",
              "</table>\n",
              "<table class=\"simpletable\">\n",
              "<tr>\n",
              "        <td></td>          <th>coef</th>     <th>std err</th>      <th>t</th>      <th>P>|t|</th>  <th>[0.025</th>    <th>0.975]</th>  \n",
              "</tr>\n",
              "<tr>\n",
              "  <th>conc_inib_a</th>  <td> 4.095e-05</td> <td> 2.22e-05</td> <td>    1.842</td> <td> 0.095</td> <td>-8.57e-06</td> <td> 9.05e-05</td>\n",
              "</tr>\n",
              "<tr>\n",
              "  <th>conc_bact_a</th>  <td>-1.414e-05</td> <td> 7.25e-06</td> <td>   -1.950</td> <td> 0.080</td> <td>-3.03e-05</td> <td> 2.02e-06</td>\n",
              "</tr>\n",
              "<tr>\n",
              "  <th>conc_inib_py</th> <td>-1.488e-05</td> <td> 2.65e-05</td> <td>   -0.562</td> <td> 0.587</td> <td>-7.39e-05</td> <td> 4.41e-05</td>\n",
              "</tr>\n",
              "<tr>\n",
              "  <th>conc_bact_py</th> <td> 4.983e-05</td> <td> 3.77e-05</td> <td>    1.323</td> <td> 0.215</td> <td>-3.41e-05</td> <td>    0.000</td>\n",
              "</tr>\n",
              "</table>\n",
              "<table class=\"simpletable\">\n",
              "<tr>\n",
              "  <th>Omnibus:</th>       <td> 1.624</td> <th>  Durbin-Watson:     </th> <td>   1.418</td>\n",
              "</tr>\n",
              "<tr>\n",
              "  <th>Prob(Omnibus):</th> <td> 0.444</td> <th>  Jarque-Bera (JB):  </th> <td>   1.118</td>\n",
              "</tr>\n",
              "<tr>\n",
              "  <th>Skew:</th>          <td> 0.655</td> <th>  Prob(JB):          </th> <td>   0.572</td>\n",
              "</tr>\n",
              "<tr>\n",
              "  <th>Kurtosis:</th>      <td> 2.552</td> <th>  Cond. No.          </th> <td>    35.5</td>\n",
              "</tr>\n",
              "</table><br/><br/>Warnings:<br/>[1] Standard Errors assume that the covariance matrix of the errors is correctly specified."
            ]
          },
          "metadata": {},
          "execution_count": 474
        }
      ]
    },
    {
      "cell_type": "markdown",
      "source": [
        "## Para o modelo2, usando a constante também não obtivemos um bom resultado. Para isso foi selecianada só duas features, características de x."
      ],
      "metadata": {
        "id": "BSrDPKaS1-GX"
      }
    },
    {
      "cell_type": "markdown",
      "source": [
        "# Testando mais um modelo 3: Selecionando os dois valores de concentração bacteriana A e py"
      ],
      "metadata": {
        "id": "Wj-H_fqyDFni"
      }
    },
    {
      "cell_type": "code",
      "source": [
        "y= concentracao['dens_otica']\n",
        "x=concentracao[['conc_bact_a', 'conc_bact_py']]"
      ],
      "metadata": {
        "id": "1PRXwFNoCK3_"
      },
      "execution_count": 475,
      "outputs": []
    },
    {
      "cell_type": "code",
      "source": [
        "x_treino3, x_teste3, y_treino3, y_teste3=train_test_split(x, y, test_size=0.3, random_state=123)"
      ],
      "metadata": {
        "id": "NnmJGAMhDZfz"
      },
      "execution_count": 476,
      "outputs": []
    },
    {
      "cell_type": "code",
      "source": [
        "modelo3=LinearRegression()\n",
        "modelo3.fit(x_treino3, y_treino3)"
      ],
      "metadata": {
        "colab": {
          "base_uri": "https://localhost:8080/",
          "height": 0
        },
        "id": "vCYQ_hcNDd5q",
        "outputId": "b569b724-710f-4fd6-b8cb-fd568d2ba623"
      },
      "execution_count": 477,
      "outputs": [
        {
          "output_type": "execute_result",
          "data": {
            "text/plain": [
              "LinearRegression()"
            ]
          },
          "metadata": {},
          "execution_count": 477
        }
      ]
    },
    {
      "cell_type": "code",
      "source": [
        "modelo3.score(x_treino3, y_treino3).round(2)"
      ],
      "metadata": {
        "colab": {
          "base_uri": "https://localhost:8080/",
          "height": 0
        },
        "id": "lC-gw1VoDnEj",
        "outputId": "04c018c9-fb14-4071-aac3-4e9be0272500"
      },
      "execution_count": 478,
      "outputs": [
        {
          "output_type": "execute_result",
          "data": {
            "text/plain": [
              "0.12"
            ]
          },
          "metadata": {},
          "execution_count": 478
        }
      ]
    },
    {
      "cell_type": "markdown",
      "source": [
        "R2 = 12% coeficiente de determinação R2"
      ],
      "metadata": {
        "id": "DkMjS9n0Ds6B"
      }
    },
    {
      "cell_type": "code",
      "source": [
        "y_previsto3= modelo3.predict(x_teste3)\n",
        "y_previsto3"
      ],
      "metadata": {
        "colab": {
          "base_uri": "https://localhost:8080/",
          "height": 0
        },
        "id": "xrcwrzjtDrsK",
        "outputId": "3809ee68-52eb-4618-e3ed-7325c7ba2f83"
      },
      "execution_count": 479,
      "outputs": [
        {
          "output_type": "execute_result",
          "data": {
            "text/plain": [
              "array([0.07199861, 0.08646875, 0.08646875, 0.08646875, 0.07199861,\n",
              "       0.08646875, 0.08646875])"
            ]
          },
          "metadata": {},
          "execution_count": 479
        }
      ]
    },
    {
      "cell_type": "code",
      "source": [
        "y_previsto_treino3=modelo3.predict(x_treino3)\n",
        "y_previsto_treino3\n"
      ],
      "metadata": {
        "colab": {
          "base_uri": "https://localhost:8080/",
          "height": 0
        },
        "id": "dnuhNCo8Fs_9",
        "outputId": "4e1dd4e7-291b-482a-daaf-708da2d90125"
      },
      "execution_count": 480,
      "outputs": [
        {
          "output_type": "execute_result",
          "data": {
            "text/plain": [
              "array([0.07199861, 0.08646875, 0.07199861, 0.07199861, 0.08646875,\n",
              "       0.07199861, 0.08646875, 0.07199861, 0.07199861, 0.07199861,\n",
              "       0.08646875, 0.07199861, 0.07199861, 0.07199861])"
            ]
          },
          "metadata": {},
          "execution_count": 480
        }
      ]
    },
    {
      "cell_type": "code",
      "source": [
        "modelo3_statsmodel=sm.OLS(y_treino3, x_treino3).fit()"
      ],
      "metadata": {
        "id": "xAlbewkOF829"
      },
      "execution_count": 481,
      "outputs": []
    },
    {
      "cell_type": "code",
      "source": [
        "estatistica3 = modelo3_statsmodel.summary()\n",
        "estatistica3"
      ],
      "metadata": {
        "colab": {
          "base_uri": "https://localhost:8080/",
          "height": 478
        },
        "id": "PXm9vzZ9GOLs",
        "outputId": "43080c57-bdf8-47b5-c576-3f73706ca1d3"
      },
      "execution_count": 482,
      "outputs": [
        {
          "output_type": "stream",
          "name": "stderr",
          "text": [
            "/usr/local/lib/python3.7/dist-packages/scipy/stats/stats.py:1542: UserWarning: kurtosistest only valid for n>=20 ... continuing anyway, n=14\n",
            "  \"anyway, n=%i\" % int(n))\n"
          ]
        },
        {
          "output_type": "execute_result",
          "data": {
            "text/plain": [
              "<class 'statsmodels.iolib.summary.Summary'>\n",
              "\"\"\"\n",
              "                            OLS Regression Results                            \n",
              "==============================================================================\n",
              "Dep. Variable:             dens_otica   R-squared:                       0.119\n",
              "Model:                            OLS   Adj. R-squared:                  0.045\n",
              "Method:                 Least Squares   F-statistic:                     1.615\n",
              "Date:                Wed, 10 Aug 2022   Prob (F-statistic):              0.228\n",
              "Time:                        16:36:11   Log-Likelihood:                 36.519\n",
              "No. Observations:                  14   AIC:                            -69.04\n",
              "Df Residuals:                      12   BIC:                            -67.76\n",
              "Df Model:                           1                                         \n",
              "Covariance Type:            nonrobust                                         \n",
              "================================================================================\n",
              "                   coef    std err          t      P>|t|      [0.025      0.975]\n",
              "--------------------------------------------------------------------------------\n",
              "conc_bact_a  -7.235e-06   5.69e-06     -1.271      0.228   -1.96e-05    5.17e-06\n",
              "conc_bact_py     0.0001   2.02e-05      5.000      0.000     5.7e-05       0.000\n",
              "==============================================================================\n",
              "Omnibus:                        0.713   Durbin-Watson:                   1.674\n",
              "Prob(Omnibus):                  0.700   Jarque-Bera (JB):                0.683\n",
              "Skew:                           0.294   Prob(JB):                        0.711\n",
              "Kurtosis:                       2.091   Cond. No.                         15.0\n",
              "==============================================================================\n",
              "\n",
              "Warnings:\n",
              "[1] Standard Errors assume that the covariance matrix of the errors is correctly specified.\n",
              "\"\"\""
            ],
            "text/html": [
              "<table class=\"simpletable\">\n",
              "<caption>OLS Regression Results</caption>\n",
              "<tr>\n",
              "  <th>Dep. Variable:</th>       <td>dens_otica</td>    <th>  R-squared:         </th> <td>   0.119</td>\n",
              "</tr>\n",
              "<tr>\n",
              "  <th>Model:</th>                   <td>OLS</td>       <th>  Adj. R-squared:    </th> <td>   0.045</td>\n",
              "</tr>\n",
              "<tr>\n",
              "  <th>Method:</th>             <td>Least Squares</td>  <th>  F-statistic:       </th> <td>   1.615</td>\n",
              "</tr>\n",
              "<tr>\n",
              "  <th>Date:</th>             <td>Wed, 10 Aug 2022</td> <th>  Prob (F-statistic):</th>  <td> 0.228</td> \n",
              "</tr>\n",
              "<tr>\n",
              "  <th>Time:</th>                 <td>16:36:11</td>     <th>  Log-Likelihood:    </th> <td>  36.519</td>\n",
              "</tr>\n",
              "<tr>\n",
              "  <th>No. Observations:</th>      <td>    14</td>      <th>  AIC:               </th> <td>  -69.04</td>\n",
              "</tr>\n",
              "<tr>\n",
              "  <th>Df Residuals:</th>          <td>    12</td>      <th>  BIC:               </th> <td>  -67.76</td>\n",
              "</tr>\n",
              "<tr>\n",
              "  <th>Df Model:</th>              <td>     1</td>      <th>                     </th>     <td> </td>   \n",
              "</tr>\n",
              "<tr>\n",
              "  <th>Covariance Type:</th>      <td>nonrobust</td>    <th>                     </th>     <td> </td>   \n",
              "</tr>\n",
              "</table>\n",
              "<table class=\"simpletable\">\n",
              "<tr>\n",
              "        <td></td>          <th>coef</th>     <th>std err</th>      <th>t</th>      <th>P>|t|</th>  <th>[0.025</th>    <th>0.975]</th>  \n",
              "</tr>\n",
              "<tr>\n",
              "  <th>conc_bact_a</th>  <td>-7.235e-06</td> <td> 5.69e-06</td> <td>   -1.271</td> <td> 0.228</td> <td>-1.96e-05</td> <td> 5.17e-06</td>\n",
              "</tr>\n",
              "<tr>\n",
              "  <th>conc_bact_py</th> <td>    0.0001</td> <td> 2.02e-05</td> <td>    5.000</td> <td> 0.000</td> <td>  5.7e-05</td> <td>    0.000</td>\n",
              "</tr>\n",
              "</table>\n",
              "<table class=\"simpletable\">\n",
              "<tr>\n",
              "  <th>Omnibus:</th>       <td> 0.713</td> <th>  Durbin-Watson:     </th> <td>   1.674</td>\n",
              "</tr>\n",
              "<tr>\n",
              "  <th>Prob(Omnibus):</th> <td> 0.700</td> <th>  Jarque-Bera (JB):  </th> <td>   0.683</td>\n",
              "</tr>\n",
              "<tr>\n",
              "  <th>Skew:</th>          <td> 0.294</td> <th>  Prob(JB):          </th> <td>   0.711</td>\n",
              "</tr>\n",
              "<tr>\n",
              "  <th>Kurtosis:</th>      <td> 2.091</td> <th>  Cond. No.          </th> <td>    15.0</td>\n",
              "</tr>\n",
              "</table><br/><br/>Warnings:<br/>[1] Standard Errors assume that the covariance matrix of the errors is correctly specified."
            ]
          },
          "metadata": {},
          "execution_count": 482
        }
      ]
    },
    {
      "cell_type": "markdown",
      "source": [
        "## Mudando o X do modelo 3, usando só 2 variáveis a conc_bact_a, conc_bact_py, apenas a conc_bact_py apresentou diferença estatística na densidade óptica, com nível de significancia , p<0.05 ou 5% e confiança > 95%. Porém o R2 não obteve um bom escore."
      ],
      "metadata": {
        "id": "zaqczPiwGXkk"
      }
    },
    {
      "cell_type": "markdown",
      "source": [
        "# Valores que podem ser alterados abaixo, para encontrar a predição."
      ],
      "metadata": {
        "id": "0BJ04P9IrFk2"
      }
    },
    {
      "cell_type": "code",
      "source": [
        "conc_bact_py=1200\n",
        "conc_bact_a=2000\n",
        "entrada= [[conc_bact_py, conc_bact_a]]"
      ],
      "metadata": {
        "id": "iS5nD4FcGU1U"
      },
      "execution_count": 483,
      "outputs": []
    },
    {
      "cell_type": "code",
      "source": [
        "densidade_optica_predita= modelo3.predict(entrada)\n",
        "densidade_optica_predita\n"
      ],
      "metadata": {
        "colab": {
          "base_uri": "https://localhost:8080/",
          "height": 0
        },
        "id": "xnof76BsJ5ek",
        "outputId": "482ae7cb-c69d-4105-9101-c49eb5a172a2"
      },
      "execution_count": 484,
      "outputs": [
        {
          "output_type": "stream",
          "name": "stderr",
          "text": [
            "/usr/local/lib/python3.7/dist-packages/sklearn/base.py:451: UserWarning: X does not have valid feature names, but LinearRegression was fitted with feature names\n",
            "  \"X does not have valid feature names, but\"\n"
          ]
        },
        {
          "output_type": "execute_result",
          "data": {
            "text/plain": [
              "array([0.09225681])"
            ]
          },
          "metadata": {},
          "execution_count": 484
        }
      ]
    },
    {
      "cell_type": "code",
      "source": [
        "print(densidade_optica_predita, 'para os valores: conc_bact_py=1200, conc_bact_a=2000')"
      ],
      "metadata": {
        "colab": {
          "base_uri": "https://localhost:8080/",
          "height": 0
        },
        "id": "9F5pHserKMvE",
        "outputId": "ea78ca3a-7020-4f03-bfb8-8df0e95a64ce"
      },
      "execution_count": 485,
      "outputs": [
        {
          "output_type": "stream",
          "name": "stdout",
          "text": [
            "[0.09225681] para os vaores: conc_bact_py=1200, conc_bact_a=2000\n"
          ]
        }
      ]
    },
    {
      "cell_type": "markdown",
      "source": [
        "# Abaixo o Modelo de predição: Resposta para a densidade ótica(y), considerando as features ( concentração bactericida do produto A e a concentração bactericida do produto Py). "
      ],
      "metadata": {
        "id": "jSh0HhJVpomY"
      }
    },
    {
      "cell_type": "code",
      "source": [
        "conc_bact_py=550\n",
        "conc_bact_a=2100\n",
        "\n",
        "entrada= [[conc_bact_py, conc_bact_a]]\n",
        "densidade_optica_predita= modelo3.predict(entrada)\n",
        "\n",
        "print(densidade_optica_predita)"
      ],
      "metadata": {
        "colab": {
          "base_uri": "https://localhost:8080/",
          "height": 0
        },
        "id": "gL8T9ELzLD42",
        "outputId": "b726b3ca-0f3a-4cdd-bf74-2adb49a71d78"
      },
      "execution_count": 486,
      "outputs": [
        {
          "output_type": "stream",
          "name": "stdout",
          "text": [
            "[0.0969596]\n"
          ]
        },
        {
          "output_type": "stream",
          "name": "stderr",
          "text": [
            "/usr/local/lib/python3.7/dist-packages/sklearn/base.py:451: UserWarning: X does not have valid feature names, but LinearRegression was fitted with feature names\n",
            "  \"X does not have valid feature names, but\"\n"
          ]
        }
      ]
    },
    {
      "cell_type": "markdown",
      "source": [
        "# Abaixo no modelo 4,  foi feito um teste mudando o y (concentração bactericida A), mas houve muita variação, então deixei um y e um x (densidade ótica)"
      ],
      "metadata": {
        "id": "W22rUOG8Oe9w"
      }
    },
    {
      "cell_type": "code",
      "source": [
        "y= concentracao['conc_bact_a']\n",
        "x=concentracao[['dens_otica']]"
      ],
      "metadata": {
        "id": "KKhxJ4mRNP59"
      },
      "execution_count": 502,
      "outputs": []
    },
    {
      "cell_type": "code",
      "source": [
        "x_treino4, x_teste4, y_treino4, y_teste4 =train_test_split(x, y, test_size=0.3, random_state=123)\n",
        "modelo4=LinearRegression()\n",
        "modelo4.fit(x_treino4, y_treino4)"
      ],
      "metadata": {
        "colab": {
          "base_uri": "https://localhost:8080/",
          "height": 0
        },
        "id": "gyzoGQsFOl0Y",
        "outputId": "d05ec329-f868-460c-f1b1-66b9fbdc2488"
      },
      "execution_count": 521,
      "outputs": [
        {
          "output_type": "execute_result",
          "data": {
            "text/plain": [
              "LinearRegression()"
            ]
          },
          "metadata": {},
          "execution_count": 521
        }
      ]
    },
    {
      "cell_type": "code",
      "source": [
        "modelo4.score(x_treino4, y_treino4).round(2)"
      ],
      "metadata": {
        "colab": {
          "base_uri": "https://localhost:8080/",
          "height": 0
        },
        "id": "6Y0_VyHAPR6Y",
        "outputId": "543b4234-aae5-4931-f631-3bc8ce0926f5"
      },
      "execution_count": 522,
      "outputs": [
        {
          "output_type": "execute_result",
          "data": {
            "text/plain": [
              "0.12"
            ]
          },
          "metadata": {},
          "execution_count": 522
        }
      ]
    },
    {
      "cell_type": "code",
      "source": [
        "y_previsto4= modelo4.predict(x_teste4)\n",
        "y_previsto_treino4=modelo4.predict(x_treino4)\n",
        "\n"
      ],
      "metadata": {
        "id": "hs--ZcVrPWRQ"
      },
      "execution_count": 523,
      "outputs": []
    },
    {
      "cell_type": "code",
      "source": [
        "modelo4_statsmodel=sm.OLS(y_treino4, x_treino4).fit()"
      ],
      "metadata": {
        "id": "pXw_PcQYPlFo"
      },
      "execution_count": 524,
      "outputs": []
    },
    {
      "cell_type": "code",
      "source": [
        "estatistica4 = modelo4_statsmodel.summary()\n",
        "estatistica4"
      ],
      "metadata": {
        "colab": {
          "base_uri": "https://localhost:8080/",
          "height": 458
        },
        "id": "2GEPKAyePsDg",
        "outputId": "7be6052d-9300-4cf7-f1e8-959e3021c751"
      },
      "execution_count": 525,
      "outputs": [
        {
          "output_type": "stream",
          "name": "stderr",
          "text": [
            "/usr/local/lib/python3.7/dist-packages/scipy/stats/stats.py:1542: UserWarning: kurtosistest only valid for n>=20 ... continuing anyway, n=14\n",
            "  \"anyway, n=%i\" % int(n))\n"
          ]
        },
        {
          "output_type": "execute_result",
          "data": {
            "text/plain": [
              "<class 'statsmodels.iolib.summary.Summary'>\n",
              "\"\"\"\n",
              "                                 OLS Regression Results                                \n",
              "=======================================================================================\n",
              "Dep. Variable:            conc_bact_a   R-squared (uncentered):                   0.841\n",
              "Model:                            OLS   Adj. R-squared (uncentered):              0.829\n",
              "Method:                 Least Squares   F-statistic:                              68.74\n",
              "Date:                Wed, 10 Aug 2022   Prob (F-statistic):                    1.51e-06\n",
              "Time:                        16:41:53   Log-Likelihood:                         -121.42\n",
              "No. Observations:                  14   AIC:                                      244.8\n",
              "Df Residuals:                      13   BIC:                                      245.5\n",
              "Df Model:                           1                                                  \n",
              "Covariance Type:            nonrobust                                                  \n",
              "==============================================================================\n",
              "                 coef    std err          t      P>|t|      [0.025      0.975]\n",
              "------------------------------------------------------------------------------\n",
              "dens_otica  4.144e+04   4998.178      8.291      0.000    3.06e+04    5.22e+04\n",
              "==============================================================================\n",
              "Omnibus:                        1.867   Durbin-Watson:                   2.345\n",
              "Prob(Omnibus):                  0.393   Jarque-Bera (JB):                1.396\n",
              "Skew:                          -0.617   Prob(JB):                        0.498\n",
              "Kurtosis:                       2.066   Cond. No.                         1.00\n",
              "==============================================================================\n",
              "\n",
              "Warnings:\n",
              "[1] Standard Errors assume that the covariance matrix of the errors is correctly specified.\n",
              "\"\"\""
            ],
            "text/html": [
              "<table class=\"simpletable\">\n",
              "<caption>OLS Regression Results</caption>\n",
              "<tr>\n",
              "  <th>Dep. Variable:</th>       <td>conc_bact_a</td>   <th>  R-squared (uncentered):</th>      <td>   0.841</td>\n",
              "</tr>\n",
              "<tr>\n",
              "  <th>Model:</th>                   <td>OLS</td>       <th>  Adj. R-squared (uncentered):</th> <td>   0.829</td>\n",
              "</tr>\n",
              "<tr>\n",
              "  <th>Method:</th>             <td>Least Squares</td>  <th>  F-statistic:       </th>          <td>   68.74</td>\n",
              "</tr>\n",
              "<tr>\n",
              "  <th>Date:</th>             <td>Wed, 10 Aug 2022</td> <th>  Prob (F-statistic):</th>          <td>1.51e-06</td>\n",
              "</tr>\n",
              "<tr>\n",
              "  <th>Time:</th>                 <td>16:41:53</td>     <th>  Log-Likelihood:    </th>          <td> -121.42</td>\n",
              "</tr>\n",
              "<tr>\n",
              "  <th>No. Observations:</th>      <td>    14</td>      <th>  AIC:               </th>          <td>   244.8</td>\n",
              "</tr>\n",
              "<tr>\n",
              "  <th>Df Residuals:</th>          <td>    13</td>      <th>  BIC:               </th>          <td>   245.5</td>\n",
              "</tr>\n",
              "<tr>\n",
              "  <th>Df Model:</th>              <td>     1</td>      <th>                     </th>              <td> </td>   \n",
              "</tr>\n",
              "<tr>\n",
              "  <th>Covariance Type:</th>      <td>nonrobust</td>    <th>                     </th>              <td> </td>   \n",
              "</tr>\n",
              "</table>\n",
              "<table class=\"simpletable\">\n",
              "<tr>\n",
              "       <td></td>         <th>coef</th>     <th>std err</th>      <th>t</th>      <th>P>|t|</th>  <th>[0.025</th>    <th>0.975]</th>  \n",
              "</tr>\n",
              "<tr>\n",
              "  <th>dens_otica</th> <td> 4.144e+04</td> <td> 4998.178</td> <td>    8.291</td> <td> 0.000</td> <td> 3.06e+04</td> <td> 5.22e+04</td>\n",
              "</tr>\n",
              "</table>\n",
              "<table class=\"simpletable\">\n",
              "<tr>\n",
              "  <th>Omnibus:</th>       <td> 1.867</td> <th>  Durbin-Watson:     </th> <td>   2.345</td>\n",
              "</tr>\n",
              "<tr>\n",
              "  <th>Prob(Omnibus):</th> <td> 0.393</td> <th>  Jarque-Bera (JB):  </th> <td>   1.396</td>\n",
              "</tr>\n",
              "<tr>\n",
              "  <th>Skew:</th>          <td>-0.617</td> <th>  Prob(JB):          </th> <td>   0.498</td>\n",
              "</tr>\n",
              "<tr>\n",
              "  <th>Kurtosis:</th>      <td> 2.066</td> <th>  Cond. No.          </th> <td>    1.00</td>\n",
              "</tr>\n",
              "</table><br/><br/>Warnings:<br/>[1] Standard Errors assume that the covariance matrix of the errors is correctly specified."
            ]
          },
          "metadata": {},
          "execution_count": 525
        }
      ]
    },
    {
      "cell_type": "markdown",
      "source": [
        "# Para esse modelo 4, acabei deixando só um x, e isso interferiu na impressão do modelo4. O R2 =84.1% e o P>|t|, p< 0.05 ou 5% de significância para a densidade ótica."
      ],
      "metadata": {
        "id": "Lky8K9ORosKj"
      }
    },
    {
      "cell_type": "code",
      "source": [
        ""
      ],
      "metadata": {
        "id": "Jtzmss8ao7Vs"
      },
      "execution_count": null,
      "outputs": []
    }
  ]
}